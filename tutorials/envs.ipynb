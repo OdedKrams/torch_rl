{
 "cells": [
  {
   "cell_type": "markdown",
   "id": "e8966967-97bc-406e-a2f4-4a62d8f9e895",
   "metadata": {},
   "source": [
    "# TorchRL envs (`torchrl.envs`)\n",
    "\n",
    "Environments play a crucial role in RL settings, often somewhat similar to datasets in supervised and unsupervised settings.\n",
    "The RL community has become quite familiar with OpenAI gym API which offers a flexible way of building environments, initializing them and interacting with them. \n",
    "However, many other libraries exist, and the way one interacts with them can be quite different from what is expected with gym.\n",
    "\n",
    "Let us start by describing how TorchRL interacts with gym, which will serve as an introduction to other frameworks."
   ]
  },
  {
   "cell_type": "markdown",
   "id": "f461815d-dfd2-4d48-8d9b-21cc25f55464",
   "metadata": {},
   "source": [
    "## Gym environments\n",
    "\n",
    "To run this part of the tutorial, you will need to have a recent version of the gym library installed, as well as the atari suite.\n",
    "You can get this installed by installing the following packages:\n",
    "\n",
    "```\n",
    "pip install gym atari-py ale-py gym[accept-rom-license] pygame\n",
    "```\n",
    "\n",
    "To unify all frameworks, torchrl environments are built inside the `__init__` method with a private method called `_build_env` that will pass the arguments and keyword arguments to the root library builder.\n",
    "\n",
    "With gym, it means that building an environment is as easy as:"
   ]
  },
  {
   "cell_type": "code",
   "execution_count": 1,
   "id": "09a90ffb-eba0-458e-912d-568ea006e15c",
   "metadata": {},
   "outputs": [],
   "source": [
    "from torchrl.envs import GymEnv\n",
    "from matplotlib import pyplot as plt\n",
    "from torchrl.data import TensorDict\n",
    "import torch\n",
    "env = GymEnv(\"Pendulum-v1\")"
   ]
  },
  {
   "cell_type": "markdown",
   "id": "b508f501-20a0-4e44-b928-17410cf27eb6",
   "metadata": {},
   "source": [
    "The list of available environment can be accessed through this command:"
   ]
  },
  {
   "cell_type": "code",
   "execution_count": 2,
   "id": "a2b3c152-be95-4140-ab2e-92c9df1c40bc",
   "metadata": {},
   "outputs": [
    {
     "data": {
      "text/plain": [
       "['ALE/Adventure-ram-v5',\n",
       " 'ALE/Adventure-v5',\n",
       " 'ALE/AirRaid-ram-v5',\n",
       " 'ALE/AirRaid-v5',\n",
       " 'ALE/Alien-ram-v5',\n",
       " 'ALE/Alien-v5',\n",
       " 'ALE/Amidar-ram-v5',\n",
       " 'ALE/Amidar-v5',\n",
       " 'ALE/Assault-ram-v5',\n",
       " 'ALE/Assault-v5']"
      ]
     },
     "execution_count": 2,
     "metadata": {},
     "output_type": "execute_result"
    }
   ],
   "source": [
    "GymEnv.available_envs[:10]"
   ]
  },
  {
   "cell_type": "markdown",
   "id": "330e470a-ec2e-436c-b1f7-ff2e1f4704c8",
   "metadata": {},
   "source": [
    "### Env specs\n",
    "\n",
    "Like other frameworks, TorchRL envs have attributes that indicate what space is for the observations, action and reward. \n",
    "Because it often happens that more than one observation is retrieved, we expect the observation spec to be of type `CompositeSpec`. Reward and action do not have this restriction:"
   ]
  },
  {
   "cell_type": "code",
   "execution_count": 3,
   "id": "36c1475f-c14a-4c76-ac0f-9fd9177ed5e1",
   "metadata": {},
   "outputs": [
    {
     "name": "stdout",
     "output_type": "stream",
     "text": [
      "Env observation_spec: \n",
      " CompositeSpec(\n",
      "    next_observation: NdBoundedTensorSpec(\n",
      "         shape=torch.Size([3]), space=ContinuousBox(minimum=tensor([-1., -1., -8.]), maximum=tensor([1., 1., 8.])), device=cpu, dtype=torch.float32, domain=continuous))\n",
      "Env action_spec: \n",
      " NdBoundedTensorSpec(\n",
      "     shape=torch.Size([1]), space=ContinuousBox(minimum=tensor([-2.]), maximum=tensor([2.])), device=cpu, dtype=torch.float32, domain=continuous)\n",
      "Env reward_spec: \n",
      " UnboundedContinuousTensorSpec(\n",
      "     shape=torch.Size([1]), space=ContinuousBox(minimum=-inf, maximum=inf), device=cpu, dtype=torch.float32, domain=composite)\n"
     ]
    }
   ],
   "source": [
    "print(\"Env observation_spec: \\n\", env.observation_spec)\n",
    "print(\"Env action_spec: \\n\", env.action_spec)\n",
    "print(\"Env reward_spec: \\n\", env.reward_spec)"
   ]
  },
  {
   "cell_type": "markdown",
   "id": "ab3e1a6b-06a8-47e6-b43d-d9cb4b82150a",
   "metadata": {},
   "source": [
    "Those spec come with a series of useful tools: one can assert whether a sample is in the defined space. We can also use some heuristic to project a sample in the space if it is out of space, and generate random (possibly uniformly distributed) numbers in that space:"
   ]
  },
  {
   "cell_type": "code",
   "execution_count": 4,
   "id": "ad7d55fe-6dda-4757-ada8-5b8dddc41729",
   "metadata": {},
   "outputs": [
    {
     "name": "stdout",
     "output_type": "stream",
     "text": [
      "action is in bounds?\n",
      " False\n",
      "projected action: \n",
      " tensor([2.])\n"
     ]
    }
   ],
   "source": [
    "action = torch.ones(1) * 3\n",
    "print(\"action is in bounds?\\n\", bool(env.action_spec.is_in(action)))\n",
    "print(\"projected action: \\n\", env.action_spec.project(action))\n"
   ]
  },
  {
   "cell_type": "code",
   "execution_count": 5,
   "id": "fa103f09-c3a4-4c3e-b39c-6253599d0fec",
   "metadata": {},
   "outputs": [
    {
     "name": "stdout",
     "output_type": "stream",
     "text": [
      "random action: \n",
      " tensor([-0.0745])\n"
     ]
    }
   ],
   "source": [
    "print(\"random action: \\n\", env.action_spec.rand())"
   ]
  },
  {
   "cell_type": "markdown",
   "id": "b4d99bce-99ef-44f5-8406-de7da52cb23f",
   "metadata": {},
   "source": [
    "### Seeding, resetting and steps\n",
    "\n",
    "The basic operations on an environment are (1) `set_seed`, (2) `reset` and (3) `step`.\n",
    "\n",
    "Let's see how these methods work with TorchRL:"
   ]
  },
  {
   "cell_type": "code",
   "execution_count": 6,
   "id": "0e8bff90-5046-4888-8750-cfc7f050167a",
   "metadata": {},
   "outputs": [
    {
     "name": "stdout",
     "output_type": "stream",
     "text": [
      "TensorDict(\n",
      "    fields={\n",
      "        done: Tensor(torch.Size([1]), dtype=torch.bool),\n",
      "        observation: Tensor(torch.Size([3]), dtype=torch.float32)},\n",
      "    batch_size=torch.Size([]),\n",
      "    device=cpu,\n",
      "    is_shared=False)\n"
     ]
    }
   ],
   "source": [
    "torch.manual_seed(0)  # make sure that all torch code is also reproductible\n",
    "env.set_seed(0)\n",
    "tensordict = env.reset()\n",
    "print(tensordict)"
   ]
  },
  {
   "cell_type": "markdown",
   "id": "2936a240-8a03-4726-94fe-6151cc4f7f3e",
   "metadata": {},
   "source": [
    "We can now execute a step in the environment. \n",
    "Since we don't have a policy, we can just generate a random action:"
   ]
  },
  {
   "cell_type": "code",
   "execution_count": 7,
   "id": "676c3ddc-3396-4e93-a474-2e0a403ec14d",
   "metadata": {},
   "outputs": [],
   "source": [
    "def policy(tensordict):\n",
    "    tensordict.set(\"action\", env.action_spec.rand())\n",
    "    return tensordict\n",
    "policy(tensordict)\n",
    "tensordict_out = env.step(tensordict)"
   ]
  },
  {
   "cell_type": "markdown",
   "id": "c9a7364c-d8e9-44de-a9da-977e8d14c094",
   "metadata": {},
   "source": [
    "By default, the tensordict returned by `step` is the same as the input..."
   ]
  },
  {
   "cell_type": "code",
   "execution_count": 8,
   "id": "903ad364-0843-4674-9625-11fdece3eb18",
   "metadata": {},
   "outputs": [],
   "source": [
    "assert tensordict_out is tensordict"
   ]
  },
  {
   "cell_type": "markdown",
   "id": "64aac817-a77d-4c8b-b6da-75a90f1ac1be",
   "metadata": {},
   "source": [
    "... but with new keys"
   ]
  },
  {
   "cell_type": "code",
   "execution_count": 9,
   "id": "9cabe1d8-d904-4795-abc3-9b404ee9e9b4",
   "metadata": {},
   "outputs": [
    {
     "data": {
      "text/plain": [
       "TensorDict(\n",
       "    fields={\n",
       "        action: Tensor(torch.Size([1]), dtype=torch.float32),\n",
       "        done: Tensor(torch.Size([1]), dtype=torch.bool),\n",
       "        next_observation: Tensor(torch.Size([3]), dtype=torch.float32),\n",
       "        observation: Tensor(torch.Size([3]), dtype=torch.float32),\n",
       "        reward: Tensor(torch.Size([1]), dtype=torch.float32)},\n",
       "    batch_size=torch.Size([]),\n",
       "    device=cpu,\n",
       "    is_shared=False)"
      ]
     },
     "execution_count": 9,
     "metadata": {},
     "output_type": "execute_result"
    }
   ],
   "source": [
    "tensordict"
   ]
  },
  {
   "cell_type": "markdown",
   "id": "581b7ab6-f542-444f-970f-9755b18051cc",
   "metadata": {},
   "source": [
    "What we just did (a random step using `action_spec.rand()`) can also be done via the simple shortcut"
   ]
  },
  {
   "cell_type": "code",
   "execution_count": 10,
   "id": "2c08ee82-8d0e-4735-ba80-5944f393340e",
   "metadata": {},
   "outputs": [
    {
     "data": {
      "text/plain": [
       "TensorDict(\n",
       "    fields={\n",
       "        action: Tensor(torch.Size([1]), dtype=torch.float32),\n",
       "        done: Tensor(torch.Size([1]), dtype=torch.bool),\n",
       "        next_observation: Tensor(torch.Size([3]), dtype=torch.float32),\n",
       "        observation: Tensor(torch.Size([3]), dtype=torch.float32),\n",
       "        reward: Tensor(torch.Size([1]), dtype=torch.float32)},\n",
       "    batch_size=torch.Size([]),\n",
       "    device=cpu,\n",
       "    is_shared=False)"
      ]
     },
     "execution_count": 10,
     "metadata": {},
     "output_type": "execute_result"
    }
   ],
   "source": [
    "env.rand_step()"
   ]
  },
  {
   "cell_type": "markdown",
   "id": "46b3e9c0-ad70-475b-90ae-11787b900ed3",
   "metadata": {},
   "source": [
    "The new key `\"next_observation\"` (as all keys starting with `\"next_\"`) have a special role in TorchRL: they indicate that they come after the key with the same name but without the prefix.\n",
    "\n",
    "We provide a function `step_tensordict` that executes a step in the tensordict: it returns a new tensordict updated such that $t <- t'$:"
   ]
  },
  {
   "cell_type": "code",
   "execution_count": 11,
   "id": "ad697e31-ec9d-4607-942a-93f96b5f0e85",
   "metadata": {},
   "outputs": [
    {
     "name": "stdout",
     "output_type": "stream",
     "text": [
      "TensorDict(\n",
      "    fields={\n",
      "        observation: Tensor(torch.Size([3]), dtype=torch.float32),\n",
      "        some other key: Tensor(torch.Size([1]), dtype=torch.float32)},\n",
      "    batch_size=torch.Size([]),\n",
      "    device=cpu,\n",
      "    is_shared=False)\n",
      "tensor(True)\n"
     ]
    }
   ],
   "source": [
    "from torchrl.envs.utils import step_tensordict\n",
    "tensordict.set(\"some other key\", torch.randn(1))\n",
    "tensordict_tprime = step_tensordict(tensordict)\n",
    "print(tensordict_tprime)\n",
    "print((tensordict_tprime.get(\"observation\") == tensordict.get(\"next_observation\")).all())"
   ]
  },
  {
   "cell_type": "markdown",
   "id": "21925dd8-6492-401c-a09b-60ad6a7774d8",
   "metadata": {},
   "source": [
    "We can observe that `step_tensordict` has removed all the time-dependent key-value pairs, but not `\"some other key\"`. Also, the new observation matches the previous one"
   ]
  },
  {
   "cell_type": "markdown",
   "id": "14d2951e-c263-4d06-903b-686191ecf97b",
   "metadata": {},
   "source": [
    "Finally, note that the `env.reset` method also accepts a tensordict to update:"
   ]
  },
  {
   "cell_type": "code",
   "execution_count": 12,
   "id": "bc928092-ade0-46b3-836b-4f21caafc3a7",
   "metadata": {},
   "outputs": [
    {
     "data": {
      "text/plain": [
       "TensorDict(\n",
       "    fields={\n",
       "        done: Tensor(torch.Size([1]), dtype=torch.bool),\n",
       "        observation: Tensor(torch.Size([3]), dtype=torch.float32)},\n",
       "    batch_size=torch.Size([]),\n",
       "    device=cpu,\n",
       "    is_shared=False)"
      ]
     },
     "execution_count": 12,
     "metadata": {},
     "output_type": "execute_result"
    }
   ],
   "source": [
    "tensordict = TensorDict({}, [])\n",
    "assert env.reset(tensordict) is tensordict\n",
    "tensordict"
   ]
  },
  {
   "cell_type": "markdown",
   "id": "da0fa538-694e-49ce-b0d2-3ebb8d626a11",
   "metadata": {},
   "source": [
    "### current_tensordict\n",
    "One can access the latest observation by querying the `current_tensordict` attribute."
   ]
  },
  {
   "cell_type": "code",
   "execution_count": 13,
   "id": "639c36b0-f750-4d3e-a75d-df8cb1a5ef89",
   "metadata": {},
   "outputs": [
    {
     "data": {
      "text/plain": [
       "TensorDict(\n",
       "    fields={\n",
       "        done: Tensor(torch.Size([1]), dtype=torch.bool),\n",
       "        observation: Tensor(torch.Size([3]), dtype=torch.float32)},\n",
       "    batch_size=torch.Size([]),\n",
       "    device=cpu,\n",
       "    is_shared=False)"
      ]
     },
     "execution_count": 13,
     "metadata": {},
     "output_type": "execute_result"
    }
   ],
   "source": [
    "env.current_tensordict"
   ]
  },
  {
   "cell_type": "markdown",
   "id": "14ae176d-a7af-4c3d-82fa-bf69d375bae8",
   "metadata": {},
   "source": [
    "### Rollouts\n",
    "\n",
    "The generic environment class provided by TorchRL allows you to run rollouts easily for a given number of steps:"
   ]
  },
  {
   "cell_type": "code",
   "execution_count": 14,
   "id": "41d820f7-a063-4947-935d-6018f05c12ff",
   "metadata": {},
   "outputs": [
    {
     "name": "stdout",
     "output_type": "stream",
     "text": [
      "LazyStackedTensorDict(\n",
      "    fields={\n",
      "        action: Tensor(torch.Size([20, 1]), dtype=torch.float32),\n",
      "        done: Tensor(torch.Size([20, 1]), dtype=torch.bool),\n",
      "        next_observation: Tensor(torch.Size([20, 3]), dtype=torch.float32),\n",
      "        observation: Tensor(torch.Size([20, 3]), dtype=torch.float32),\n",
      "        reward: Tensor(torch.Size([20, 1]), dtype=torch.float32)},\n",
      "    batch_size=torch.Size([20]),\n",
      "    device=cpu,\n",
      "    is_shared=False)\n"
     ]
    }
   ],
   "source": [
    "tensordict_rollout = env.rollout(n_steps=20, policy=policy)\n",
    "print(tensordict_rollout)"
   ]
  },
  {
   "cell_type": "markdown",
   "id": "1e0bb1e5-8661-4187-b97b-69bf64389a71",
   "metadata": {},
   "source": [
    "The resulting tensordict has a `batch_size` of `[20]`, which is the length of the trajectory. We can check that the observation match their next value:"
   ]
  },
  {
   "cell_type": "code",
   "execution_count": 15,
   "id": "eb449dec-640b-43d8-8f46-70a2de3cf469",
   "metadata": {},
   "outputs": [
    {
     "data": {
      "text/plain": [
       "tensor(True)"
      ]
     },
     "execution_count": 15,
     "metadata": {},
     "output_type": "execute_result"
    }
   ],
   "source": [
    "(tensordict_rollout.get(\"observation\")[1:] == tensordict_rollout.get(\"next_observation\")[:-1]).all()"
   ]
  },
  {
   "cell_type": "markdown",
   "id": "630dfdb7-d448-4c27-865f-4bb455d016b4",
   "metadata": {},
   "source": [
    "### frame_skip\n",
    "\n",
    "In some instances, it is useful to use a `frame_skip` argument to use the same action for several consecutive frames.\n",
    "\n",
    "The resulting tensordict will contain only the last frame observed in the sequence, but the rewards will be summed over the number of frames. \n",
    "\n",
    "If the environment reaches a done state during this process, it'll stop and return the result of the truncated chain."
   ]
  },
  {
   "cell_type": "code",
   "execution_count": 16,
   "id": "6b2cb9da-d976-410e-92d3-19ad75bd228e",
   "metadata": {},
   "outputs": [
    {
     "data": {
      "text/plain": [
       "TensorDict(\n",
       "    fields={\n",
       "        done: Tensor(torch.Size([1]), dtype=torch.bool),\n",
       "        observation: Tensor(torch.Size([3]), dtype=torch.float32)},\n",
       "    batch_size=torch.Size([]),\n",
       "    device=cpu,\n",
       "    is_shared=False)"
      ]
     },
     "execution_count": 16,
     "metadata": {},
     "output_type": "execute_result"
    }
   ],
   "source": [
    "env = GymEnv(\"Pendulum-v1\", frame_skip=4)\n",
    "env.reset()"
   ]
  },
  {
   "cell_type": "markdown",
   "id": "be11c29c-1a68-4cd6-a8dd-4aebdf72785e",
   "metadata": {},
   "source": [
    "### Rendering\n",
    "\n",
    "Rendering plays an important role in many RL settings, and this is why the generic environment class from torchrl provides a `from_pixels` keyword argument that allows the user to quickly ask for image-based environments:"
   ]
  },
  {
   "cell_type": "code",
   "execution_count": 17,
   "id": "19cf0c74-ab92-4a8a-9c0a-984282a295ea",
   "metadata": {},
   "outputs": [],
   "source": [
    "env = GymEnv(\"Pendulum-v1\", from_pixels=True)"
   ]
  },
  {
   "cell_type": "code",
   "execution_count": 18,
   "id": "8b914a63-1734-4fa8-96b6-c2a859f273d6",
   "metadata": {},
   "outputs": [],
   "source": [
    "tensordict = env.reset()\n",
    "env.close()"
   ]
  },
  {
   "cell_type": "code",
   "execution_count": 19,
   "id": "39500114-9f7b-4150-bc11-ecdb7d38c3ff",
   "metadata": {},
   "outputs": [
    {
     "data": {
      "text/plain": [
       "<matplotlib.image.AxesImage at 0x15e064a90>"
      ]
     },
     "execution_count": 19,
     "metadata": {},
     "output_type": "execute_result"
    },
    {
     "data": {
      "image/png": "[encoded data removed]",
      "text/plain": [
       "<Figure size 432x288 with 1 Axes>"
      ]
     },
     "metadata": {
      "needs_background": "light"
     },
     "output_type": "display_data"
    }
   ],
   "source": [
    "plt.imshow(tensordict.get(\"pixels\").numpy())"
   ]
  },
  {
   "cell_type": "markdown",
   "id": "6f6d85ad-dcde-426f-b143-5e188c8c4afc",
   "metadata": {},
   "source": [
    "Let's have a look at what the tensordict contains:"
   ]
  },
  {
   "cell_type": "code",
   "execution_count": 20,
   "id": "899fa1c2-e59a-40c6-bb50-450545984e8b",
   "metadata": {},
   "outputs": [
    {
     "data": {
      "text/plain": [
       "TensorDict(\n",
       "    fields={\n",
       "        done: Tensor(torch.Size([1]), dtype=torch.bool),\n",
       "        pixels: Tensor(torch.Size([500, 500, 3]), dtype=torch.uint8),\n",
       "        state: Tensor(torch.Size([3]), dtype=torch.float32)},\n",
       "    batch_size=torch.Size([]),\n",
       "    device=cpu,\n",
       "    is_shared=False)"
      ]
     },
     "execution_count": 20,
     "metadata": {},
     "output_type": "execute_result"
    }
   ],
   "source": [
    "tensordict"
   ]
  },
  {
   "cell_type": "markdown",
   "id": "95654812-ccce-46be-bf96-17ff48abd65d",
   "metadata": {},
   "source": [
    "We still have a `\"state\"` that describes what `\"observation\"` used to describe in the previous case (the naming difference comes from the fact that gym now returns a dictionary and TorchRL gets the names from the dictionary if it exists, otherwise it names the step output `\"observation\"`: in a few words, this is due to inconsistencies in the object type returned by gym environment step method).\n",
    "\n",
    "One can also discard this supplementary output by asking for the pixels only:"
   ]
  },
  {
   "cell_type": "code",
   "execution_count": 21,
   "id": "aee540c0-b51e-45df-be09-bf6a7549592a",
   "metadata": {},
   "outputs": [],
   "source": [
    "env = GymEnv(\"Pendulum-v1\", from_pixels=True, pixels_only=True)\n",
    "env.reset()\n",
    "env.close()"
   ]
  },
  {
   "cell_type": "markdown",
   "id": "c9df9805-6e58-4c10-912d-a4bd228e9a11",
   "metadata": {},
   "source": [
    "Some environments only come in image-based format"
   ]
  },
  {
   "cell_type": "code",
   "execution_count": 22,
   "id": "30fd300a-7b91-490c-a5d6-2d34ca4635f8",
   "metadata": {},
   "outputs": [
    {
     "name": "stdout",
     "output_type": "stream",
     "text": [
      "from pixels:  True\n",
      "tensordict:  TensorDict(\n",
      "    fields={\n",
      "        done: Tensor(torch.Size([1]), dtype=torch.bool),\n",
      "        pixels: Tensor(torch.Size([210, 160, 3]), dtype=torch.uint8),\n",
      "        state: Tensor(torch.Size([210, 160, 3]), dtype=torch.uint8)},\n",
      "    batch_size=torch.Size([]),\n",
      "    device=cpu,\n",
      "    is_shared=False)\n"
     ]
    },
    {
     "name": "stderr",
     "output_type": "stream",
     "text": [
      "A.L.E: Arcade Learning Environment (version 0.7.5+db37282)\n",
      "[Powered by Stella]\n"
     ]
    }
   ],
   "source": [
    "env = GymEnv(\"ALE/Pong-v5\")\n",
    "print('from pixels: ', env.from_pixels)\n",
    "print('tensordict: ', env.reset())\n",
    "env.close()"
   ]
  },
  {
   "cell_type": "markdown",
   "id": "f93140da-dc1c-4a09-94a9-626f5a1ff42d",
   "metadata": {},
   "source": [
    "___\n",
    "## DeepMind Control environments\n",
    "\n",
    "To run this part of the tutorial, make sure you have installed dm_control:\n",
    "\n",
    "```\n",
    "pip install dm_control\n",
    "```\n",
    "\n",
    "Make sure also to restart the notebook in between this demo and the previous, as gym and dm_control rendering can conflict.\n",
    "\n",
    "We also provide a wrapper for DM Control suite. Again, building an environment is easy: first let's look at what environments can be accessed. The `available_envs` now returns a dict of envs and possible tasks:"
   ]
  },
  {
   "cell_type": "code",
   "execution_count": 1,
   "id": "1060ddb7-3880-473e-ab81-30e02add0e4d",
   "metadata": {},
   "outputs": [
    {
     "data": {
      "text/plain": [
       "{'acrobot': ['swingup', 'swingup_sparse'],\n",
       " 'ball_in_cup': ['catch'],\n",
       " 'cartpole': ['balance',\n",
       "  'balance_sparse',\n",
       "  'swingup',\n",
       "  'swingup_sparse',\n",
       "  'three_poles',\n",
       "  'two_poles'],\n",
       " 'cheetah': ['run'],\n",
       " 'finger': ['spin', 'turn_easy', 'turn_hard'],\n",
       " 'fish': ['upright', 'swim'],\n",
       " 'hopper': ['stand', 'hop'],\n",
       " 'humanoid': ['stand', 'walk', 'run', 'run_pure_state'],\n",
       " 'manipulator': ['bring_ball', 'bring_peg', 'insert_ball', 'insert_peg'],\n",
       " 'pendulum': ['swingup'],\n",
       " 'point_mass': ['easy', 'hard'],\n",
       " 'reacher': ['easy', 'hard'],\n",
       " 'swimmer': ['swimmer6', 'swimmer15'],\n",
       " 'walker': ['stand', 'walk', 'run'],\n",
       " 'dog': ['fetch', 'run', 'stand', 'trot', 'walk'],\n",
       " 'humanoid_CMU': ['run', 'stand'],\n",
       " 'lqr': ['lqr_2_1', 'lqr_6_2'],\n",
       " 'quadruped': ['escape', 'fetch', 'run', 'walk'],\n",
       " 'stacker': ['stack_2', 'stack_4']}"
      ]
     },
     "execution_count": 1,
     "metadata": {},
     "output_type": "execute_result"
    }
   ],
   "source": [
    "from torchrl.envs import DMControlEnv\n",
    "from matplotlib import pyplot as plt\n",
    "DMControlEnv.available_envs"
   ]
  },
  {
   "cell_type": "code",
   "execution_count": 2,
   "id": "bb712ed0-aad8-4718-9dda-6eac875c78a2",
   "metadata": {},
   "outputs": [
    {
     "name": "stdout",
     "output_type": "stream",
     "text": [
      "result of reset:  TensorDict(\n",
      "    fields={\n",
      "        done: Tensor(torch.Size([1]), dtype=torch.bool),\n",
      "        orientations: Tensor(torch.Size([4]), dtype=torch.float64),\n",
      "        velocity: Tensor(torch.Size([2]), dtype=torch.float64)},\n",
      "    batch_size=torch.Size([]),\n",
      "    device=cpu,\n",
      "    is_shared=False)\n"
     ]
    }
   ],
   "source": [
    "env = DMControlEnv('acrobot', 'swingup')\n",
    "tensordict = env.reset()\n",
    "print('result of reset: ', tensordict)\n",
    "env.close()"
   ]
  },
  {
   "cell_type": "markdown",
   "id": "f4f5f4d5-b3c0-401d-8934-0dc9ebd3d72a",
   "metadata": {},
   "source": [
    "Of course we can also use pixel-based environments:"
   ]
  },
  {
   "cell_type": "code",
   "execution_count": 3,
   "id": "db64ab96-a5bc-4d77-990a-ab4b7357e291",
   "metadata": {},
   "outputs": [
    {
     "name": "stdout",
     "output_type": "stream",
     "text": [
      "result of reset:  TensorDict(\n",
      "    fields={\n",
      "        done: Tensor(torch.Size([1]), dtype=torch.bool),\n",
      "        pixels: Tensor(torch.Size([240, 320, 3]), dtype=torch.uint8)},\n",
      "    batch_size=torch.Size([]),\n",
      "    device=cpu,\n",
      "    is_shared=False)\n"
     ]
    },
    {
     "data": {
      "image/png": "[encoded data removed]",
      "text/plain": [
       "<Figure size 432x288 with 1 Axes>"
      ]
     },
     "metadata": {
      "needs_background": "light"
     },
     "output_type": "display_data"
    }
   ],
   "source": [
    "from torchrl.envs import DMControlEnv\n",
    "env = DMControlEnv('acrobot', 'swingup', from_pixels=True, pixels_only=True)\n",
    "tensordict = env.reset()\n",
    "print('result of reset: ', tensordict)\n",
    "plt.imshow(tensordict.get(\"pixels\").numpy())\n",
    "env.close()"
   ]
  },
  {
   "cell_type": "markdown",
   "id": "e0e93b95-fa48-48a3-9acc-9e8d8594103b",
   "metadata": {},
   "source": [
    "___\n",
    "## Transforming envs\n",
    "\n",
    "It is common to pre-process the output of an environment before having it read by the policy or stored in a buffer.\n",
    "\n",
    "In many instances, the RL community has adopted a wrapping scheme of the type\n",
    "\n",
    "```\n",
    "env_transformed = wrapper1(wrapper2(env))\n",
    "```\n",
    "\n",
    "to transform environments. This has numerous advantages: it makes accessing the environment specs obvious (the outer wrapper is the source of truth for the external world), and it makes it easy to interact with vectorized environment.\n",
    "However it also makes it hard to access inner environments: say one wants to remove a wrapper (e.g. `wrapper2`) from the chain, this operation requires us to collect\n",
    "```\n",
    "env0 = env.env.env\n",
    "env_transformed_bis = wrapper1(env0)\n",
    "```\n",
    "\n",
    "TorchRL takes the stance of using sequences of transforms instead, as it is done in other pytorch domain libraries (e.g. `torchvision`). This approach is also similar to the way distributions are transformed in `torch.distribution`, where a `TransformedDistribution` object is built around a `base_dist` distribution and (a sequence of) `transforms`."
   ]
  },
  {
   "cell_type": "code",
   "execution_count": 4,
   "id": "cf9ae717-2f7a-4722-9ce1-01484d53b984",
   "metadata": {},
   "outputs": [
    {
     "name": "stdout",
     "output_type": "stream",
     "text": [
      "reset before transform:  TensorDict(\n",
      "    fields={\n",
      "        done: Tensor(torch.Size([1]), dtype=torch.bool),\n",
      "        pixels: Tensor(torch.Size([240, 320, 3]), dtype=torch.uint8)},\n",
      "    batch_size=torch.Size([]),\n",
      "    device=cpu,\n",
      "    is_shared=False)\n",
      "reset after transform:  TensorDict(\n",
      "    fields={\n",
      "        done: Tensor(torch.Size([1]), dtype=torch.bool),\n",
      "        pixels: Tensor(torch.Size([3, 240, 320]), dtype=torch.float32)},\n",
      "    batch_size=torch.Size([]),\n",
      "    device=cpu,\n",
      "    is_shared=False)\n"
     ]
    }
   ],
   "source": [
    "from torchrl.envs import DMControlEnv\n",
    "import torch\n",
    "from torchrl.envs.transforms import TransformedEnv, ToTensorImage\n",
    "# ToTensorImage transforms a numpy-like image into a tensor one, \n",
    "env = DMControlEnv('acrobot', 'swingup', from_pixels=True, pixels_only=True)\n",
    "print('reset before transform: ', env.reset())\n",
    "\n",
    "env = TransformedEnv(env, ToTensorImage())\n",
    "print('reset after transform: ', env.reset())\n",
    "env.close()"
   ]
  },
  {
   "cell_type": "markdown",
   "id": "f0fdb760-bd1b-4688-ba54-da156a63c36b",
   "metadata": {},
   "source": [
    "To compose transforms, simply use the `Compose` class:"
   ]
  },
  {
   "cell_type": "code",
   "execution_count": 5,
   "id": "f0a5081d-2afc-4f0a-ad8a-4df681cfc917",
   "metadata": {},
   "outputs": [
    {
     "data": {
      "text/plain": [
       "TensorDict(\n",
       "    fields={\n",
       "        done: Tensor(torch.Size([1]), dtype=torch.bool),\n",
       "        pixels: Tensor(torch.Size([3, 32, 32]), dtype=torch.float32)},\n",
       "    batch_size=torch.Size([]),\n",
       "    device=cpu,\n",
       "    is_shared=False)"
      ]
     },
     "execution_count": 5,
     "metadata": {},
     "output_type": "execute_result"
    }
   ],
   "source": [
    "from torchrl.envs.transforms import Compose, Resize\n",
    "env = DMControlEnv('acrobot', 'swingup', from_pixels=True, pixels_only=True)\n",
    "env = TransformedEnv(env, Compose(ToTensorImage(), Resize(32, 32)))\n",
    "env.reset()"
   ]
  },
  {
   "cell_type": "markdown",
   "id": "566b0c94-6022-477a-9e2c-32f9009bcaaa",
   "metadata": {},
   "source": [
    "Transforms can also be added one at a time:"
   ]
  },
  {
   "cell_type": "code",
   "execution_count": 6,
   "id": "22da21c4-e9d6-44bc-996d-268bc37e4909",
   "metadata": {},
   "outputs": [
    {
     "data": {
      "text/plain": [
       "TensorDict(\n",
       "    fields={\n",
       "        done: Tensor(torch.Size([1]), dtype=torch.bool),\n",
       "        pixels: Tensor(torch.Size([1, 32, 32]), dtype=torch.float32)},\n",
       "    batch_size=torch.Size([]),\n",
       "    device=cpu,\n",
       "    is_shared=False)"
      ]
     },
     "execution_count": 6,
     "metadata": {},
     "output_type": "execute_result"
    }
   ],
   "source": [
    "from torchrl.envs.transforms import GrayScale\n",
    "env.append_transform(GrayScale())\n",
    "env.reset()"
   ]
  },
  {
   "cell_type": "markdown",
   "id": "ef5a2176-20d3-4270-b3ff-a1d8b5c75fcf",
   "metadata": {},
   "source": [
    "As expected, the metadata get updated too:"
   ]
  },
  {
   "cell_type": "code",
   "execution_count": 7,
   "id": "734c07ec-ff03-4df8-844e-acca466d19e6",
   "metadata": {},
   "outputs": [
    {
     "name": "stdout",
     "output_type": "stream",
     "text": [
      "original obs spec:  CompositeSpec(\n",
      "    next_pixels: NdUnboundedContinuousTensorSpec(\n",
      "         shape=(240, 320, 3), space=None, device=cpu, dtype=torch.uint8, domain=continuous))\n",
      "current obs spec:  CompositeSpec(\n",
      "    next_pixels: NdUnboundedContinuousTensorSpec(\n",
      "         shape=torch.Size([1, 32, 32]), space=None, device=cpu, dtype=torch.float32, domain=continuous))\n"
     ]
    }
   ],
   "source": [
    "print('original obs spec: ', env.env.observation_spec)\n",
    "print('current obs spec: ', env.observation_spec)"
   ]
  },
  {
   "cell_type": "markdown",
   "id": "ff001409-5c34-46be-95e2-47b2f78114ac",
   "metadata": {},
   "source": [
    "We can also concatenate tensors if needed:"
   ]
  },
  {
   "cell_type": "code",
   "execution_count": 8,
   "id": "cd294681-b15c-4735-9215-ea754b395fb0",
   "metadata": {},
   "outputs": [
    {
     "name": "stdout",
     "output_type": "stream",
     "text": [
      "keys before concat:  TensorDict(\n",
      "    fields={\n",
      "        done: Tensor(torch.Size([1]), dtype=torch.bool),\n",
      "        orientations: Tensor(torch.Size([4]), dtype=torch.float64),\n",
      "        velocity: Tensor(torch.Size([2]), dtype=torch.float64)},\n",
      "    batch_size=torch.Size([]),\n",
      "    device=cpu,\n",
      "    is_shared=False)\n",
      "keys after concat:  TensorDict(\n",
      "    fields={\n",
      "        done: Tensor(torch.Size([1]), dtype=torch.bool),\n",
      "        observation: Tensor(torch.Size([6]), dtype=torch.float64)},\n",
      "    batch_size=torch.Size([]),\n",
      "    device=cpu,\n",
      "    is_shared=False)\n"
     ]
    }
   ],
   "source": [
    "from torchrl.envs.transforms import CatTensors\n",
    "env = DMControlEnv('acrobot', 'swingup')\n",
    "print(\"keys before concat: \", env.reset())\n",
    "# make sure to work with \"next_key\" as this is what step will return\n",
    "env = TransformedEnv(env, CatTensors(keys=[\"next_orientations\", \"next_velocity\"], out_key=\"next_observation\"))\n",
    "print(\"keys after concat: \", env.reset())"
   ]
  },
  {
   "cell_type": "markdown",
   "id": "5bd8908e-a0b9-4844-8bc4-c95657acd07b",
   "metadata": {},
   "source": [
    "___\n",
    "## Environment device\n",
    "Transforms can work on device, which can bring a significant speedup when operations are moderetely or highly computationally demanding. These include `ToTensorImage`, `Resize`, `GrayScale` etc. \n",
    "\n",
    "One could legitimately ask what that implies on the wrapped environment side. Very little for regular environments: the operations will still happen on the device where they're supposed to happen. The environment device attribute in torchrl indicates on which device is the incoming data supposed to be and on which device the output data will be. Casting from and to that device is the responsibility of the torchrl environment class. The big advantage of storing data on GPU is (1) speedup of transforms as mentioned above and (2) sharing data amongst workers in multiprocessing settings.\n"
   ]
  },
  {
   "cell_type": "code",
   "execution_count": 9,
   "id": "a7538009-c098-47ee-8129-c7535aa9eb97",
   "metadata": {},
   "outputs": [],
   "source": [
    "if torch.has_cuda and torch.cuda.device_count():\n",
    "    env.to('cuda:0')\n",
    "    env.reset()"
   ]
  },
  {
   "cell_type": "markdown",
   "id": "288f91d7-6736-46db-8e06-4eca34711d0d",
   "metadata": {},
   "source": [
    "___\n",
    "## Running environments in parallel\n",
    "\n",
    "TorchRL provides utilities to run environment in parallel. It is expected that the various environment read and return tensors of similar shapes and dtypes (but one could design masking functions to make this possible in case those tensors differ in shapes). Creating such environments is quite easy. Let us look at the simplest case:"
   ]
  },
  {
   "cell_type": "code",
   "execution_count": 10,
   "id": "ef7cbd08-e0c3-41af-b367-cf08cae9adc0",
   "metadata": {},
   "outputs": [],
   "source": [
    "from torchrl.envs import GymEnv, ParallelEnv, SerialEnv\n",
    "env_make = lambda: GymEnv(\"Pendulum-v1\")\n",
    "parallel_env = ParallelEnv(3, env_make)  # -> creates 3 envs in parallel\n",
    "parallel_env = ParallelEnv(3, [env_make, env_make, env_make])  # similar to the previous command"
   ]
  },
  {
   "cell_type": "markdown",
   "id": "d6d4f2ae-35da-41c7-94e0-4e6fd7311918",
   "metadata": {},
   "source": [
    "The `SerialEnv` class is similar to the `ParallelEnv` except for the fact that environments are run sequentially. This is mostly useful for debugging purposes.\n",
    "\n",
    "`ParallelEnv` instances are created in lazy mode: the environment will start running only when called. This allows us to move `ParallelEnv` objects from process to process without worring too much about running processes.\n",
    "A `ParallelEnv` can be started by calling `start`, `reset` or simply by calling `step` (if `reset` does not need to be called first)."
   ]
  },
  {
   "cell_type": "code",
   "execution_count": 11,
   "id": "c3e4766f-9975-4cc0-96fc-fd4a7344337d",
   "metadata": {},
   "outputs": [
    {
     "data": {
      "text/plain": [
       "TensorDict(\n",
       "    fields={\n",
       "        done: Tensor(torch.Size([3, 1]), dtype=torch.bool),\n",
       "        observation: Tensor(torch.Size([3, 3]), dtype=torch.float32)},\n",
       "    batch_size=torch.Size([3]),\n",
       "    device=cpu,\n",
       "    is_shared=False)"
      ]
     },
     "execution_count": 11,
     "metadata": {},
     "output_type": "execute_result"
    }
   ],
   "source": [
    "parallel_env.reset()"
   ]
  },
  {
   "cell_type": "markdown",
   "id": "a5ecee3d-5e87-4351-bd03-a979e6e8bc79",
   "metadata": {},
   "source": [
    "One can check that the parallel environment has the right batch size. Conventionally, the first part of the `batch_size` indicates the batch, the second the time frame. Let's check that with the `rollout` method:"
   ]
  },
  {
   "cell_type": "code",
   "execution_count": 12,
   "id": "a764b5c2-a17d-49ff-9cbb-b77903b89cad",
   "metadata": {},
   "outputs": [
    {
     "data": {
      "text/plain": [
       "LazyStackedTensorDict(\n",
       "    fields={\n",
       "        action: Tensor(torch.Size([3, 20, 1]), dtype=torch.float32),\n",
       "        done: Tensor(torch.Size([3, 20, 1]), dtype=torch.bool),\n",
       "        next_observation: Tensor(torch.Size([3, 20, 3]), dtype=torch.float32),\n",
       "        observation: Tensor(torch.Size([3, 20, 3]), dtype=torch.float32),\n",
       "        reward: Tensor(torch.Size([3, 20, 1]), dtype=torch.float32)},\n",
       "    batch_size=torch.Size([3, 20]),\n",
       "    device=cpu,\n",
       "    is_shared=False)"
      ]
     },
     "execution_count": 12,
     "metadata": {},
     "output_type": "execute_result"
    }
   ],
   "source": [
    "parallel_env.rollout(n_steps=20)"
   ]
  },
  {
   "cell_type": "markdown",
   "id": "8a18c530-d8ac-4d00-bcd9-02e8350005f1",
   "metadata": {},
   "source": [
    "### Closing parallel environments\n",
    "\n",
    "**Important**: before closing a program, it is important to close the parallel environment. In general, even with regular environments, it is good practice to close a function with a call to `close`. In some instances, TorchRL will throw an error if this is not done (and often it will be at the end of a program, when the environment gets out of scope!)"
   ]
  },
  {
   "cell_type": "code",
   "execution_count": 13,
   "id": "cb805b61-b29c-485c-b224-94ad8bdba05f",
   "metadata": {},
   "outputs": [],
   "source": [
    "parallel_env.close()"
   ]
  },
  {
   "cell_type": "markdown",
   "id": "0fcdb552-3c82-4be2-b5d2-20d87362669b",
   "metadata": {},
   "source": [
    "### Seeding\n",
    "When seeding a parallel environment, the difficulty we face is that we don't want to provide the same seed to all environments. The heuristic used by TorchRL is that we produce a  deterministic chain of seeds given the input seed in a -- so to say -- Markovian way, such that it can be reconstructed from any of its elements. All `set_seed` functions will return the last seed being used, such that one can easily keep the chain going given the last seed. This is useful when several collectors all contain a `ParallelEnv` instance and we want each of the sub-sub-environments to have a different seed."
   ]
  },
  {
   "cell_type": "code",
   "execution_count": 14,
   "id": "2c10bc47-c386-4c00-b07e-97ee1db28316",
   "metadata": {},
   "outputs": [
    {
     "name": "stdout",
     "output_type": "stream",
     "text": [
      "12\n"
     ]
    }
   ],
   "source": [
    "out_seed = parallel_env.set_seed(10)\n",
    "print(out_seed)"
   ]
  },
  {
   "cell_type": "markdown",
   "id": "52c84cdb-f024-4c88-a462-7f50524d80ac",
   "metadata": {},
   "source": [
    "### Accessing environment attributes\n",
    "It sometimes occurs that a wrapped environment has an attribute that is of interest. \n",
    "First, note that TorchRL environment wrapper constains the toolings to access this attribute. Here's an example:"
   ]
  },
  {
   "cell_type": "code",
   "execution_count": 15,
   "id": "3f317630-6ee7-42b4-89ee-01f5bee14f5e",
   "metadata": {},
   "outputs": [],
   "source": [
    "from uuid import uuid1\n",
    "from time import sleep\n",
    "def env_make():\n",
    "    env = GymEnv(\"Pendulum-v1\")\n",
    "    env._env.foo = f\"bar_{uuid1()}\"\n",
    "    env._env.get_something = lambda r: r+1    \n",
    "    return env\n",
    "env = env_make()"
   ]
  },
  {
   "cell_type": "code",
   "execution_count": 16,
   "id": "16d5621a-14e3-427d-b3d5-1ffa497a117d",
   "metadata": {},
   "outputs": [
    {
     "data": {
      "text/plain": [
       "'bar_5aea30aa-dce2-11ec-ac4c-acde48001122'"
      ]
     },
     "execution_count": 16,
     "metadata": {},
     "output_type": "execute_result"
    }
   ],
   "source": [
    "# goes through env._env\n",
    "env.foo"
   ]
  },
  {
   "cell_type": "code",
   "execution_count": 17,
   "id": "1ddbb4f0-7418-4b91-97dc-808c0cb268af",
   "metadata": {},
   "outputs": [
    {
     "name": "stderr",
     "output_type": "stream",
     "text": [
      "Exception ignored in: <function _BatchedEnv.__del__ at 0x15a8c4d30>\n",
      "Traceback (most recent call last):\n",
      "  File \"/Users/vmoens/Repos/RL/torch_rl/torchrl/envs/vec_env.py\", line 393, in __del__\n",
      "    raise RuntimeError(\n",
      "RuntimeError: Batched environment must be explicitely closed before it turns out of scope.\n"
     ]
    },
    {
     "name": "stdout",
     "output_type": "stream",
     "text": [
      "Aargh what did I do!\n"
     ]
    },
    {
     "name": "stderr",
     "output_type": "stream",
     "text": [
      "Process Process-4:\n",
      "Traceback (most recent call last):\n",
      "  File \"/Users/vmoens/Repos/RL/torch_rl/torchrl/envs/vec_env.py\", line 819, in _run_worker_pipe_shared_mem\n",
      "    cmd, data = child_pipe.recv()\n",
      "  File \"/opt/homebrew/Cellar/python38/3.8.3_1/Frameworks/Python.framework/Versions/3.8/lib/python3.8/multiprocessing/connection.py\", line 250, in recv\n",
      "    buf = self._recv_bytes()\n",
      "  File \"/opt/homebrew/Cellar/python38/3.8.3_1/Frameworks/Python.framework/Versions/3.8/lib/python3.8/multiprocessing/connection.py\", line 414, in _recv_bytes\n",
      "    buf = self._recv(4)\n",
      "  File \"/opt/homebrew/Cellar/python38/3.8.3_1/Frameworks/Python.framework/Versions/3.8/lib/python3.8/multiprocessing/connection.py\", line 383, in _recv\n",
      "    raise EOFError\n",
      "EOFError\n",
      "\n",
      "During handling of the above exception, another exception occurred:\n",
      "\n",
      "Traceback (most recent call last):\n",
      "  File \"/opt/homebrew/Cellar/python38/3.8.3_1/Frameworks/Python.framework/Versions/3.8/lib/python3.8/multiprocessing/process.py\", line 315, in _bootstrap\n",
      "    self.run()\n",
      "  File \"/opt/homebrew/Cellar/python38/3.8.3_1/Frameworks/Python.framework/Versions/3.8/lib/python3.8/multiprocessing/process.py\", line 108, in run\n",
      "    self._target(*self._args, **self._kwargs)\n",
      "  File \"/Users/vmoens/Repos/RL/torch_rl/torchrl/envs/vec_env.py\", line 821, in _run_worker_pipe_shared_mem\n",
      "    raise EOFError(\n",
      "EOFError: proc 83464 failed, last command: seed. \n",
      "Err=\n",
      "Process Process-6:\n",
      "Traceback (most recent call last):\n",
      "  File \"/Users/vmoens/Repos/RL/torch_rl/torchrl/envs/vec_env.py\", line 819, in _run_worker_pipe_shared_mem\n",
      "    cmd, data = child_pipe.recv()\n",
      "  File \"/opt/homebrew/Cellar/python38/3.8.3_1/Frameworks/Python.framework/Versions/3.8/lib/python3.8/multiprocessing/connection.py\", line 250, in recv\n",
      "    buf = self._recv_bytes()\n",
      "  File \"/opt/homebrew/Cellar/python38/3.8.3_1/Frameworks/Python.framework/Versions/3.8/lib/python3.8/multiprocessing/connection.py\", line 414, in _recv_bytes\n",
      "    buf = self._recv(4)\n",
      "  File \"/opt/homebrew/Cellar/python38/3.8.3_1/Frameworks/Python.framework/Versions/3.8/lib/python3.8/multiprocessing/connection.py\", line 383, in _recv\n",
      "    raise EOFError\n",
      "EOFError\n",
      "\n",
      "During handling of the above exception, another exception occurred:\n",
      "\n",
      "Traceback (most recent call last):\n",
      "  File \"/opt/homebrew/Cellar/python38/3.8.3_1/Frameworks/Python.framework/Versions/3.8/lib/python3.8/multiprocessing/process.py\", line 315, in _bootstrap\n",
      "    self.run()\n",
      "  File \"/opt/homebrew/Cellar/python38/3.8.3_1/Frameworks/Python.framework/Versions/3.8/lib/python3.8/multiprocessing/process.py\", line 108, in run\n",
      "    self._target(*self._args, **self._kwargs)\n",
      "  File \"/Users/vmoens/Repos/RL/torch_rl/torchrl/envs/vec_env.py\", line 821, in _run_worker_pipe_shared_mem\n",
      "    raise EOFError(\n",
      "EOFError: proc 83466 failed, last command: seed. \n",
      "Err=\n",
      "Process Process-5:\n",
      "Traceback (most recent call last):\n",
      "  File \"/Users/vmoens/Repos/RL/torch_rl/torchrl/envs/vec_env.py\", line 819, in _run_worker_pipe_shared_mem\n",
      "    cmd, data = child_pipe.recv()\n",
      "  File \"/opt/homebrew/Cellar/python38/3.8.3_1/Frameworks/Python.framework/Versions/3.8/lib/python3.8/multiprocessing/connection.py\", line 250, in recv\n",
      "    buf = self._recv_bytes()\n",
      "  File \"/opt/homebrew/Cellar/python38/3.8.3_1/Frameworks/Python.framework/Versions/3.8/lib/python3.8/multiprocessing/connection.py\", line 414, in _recv_bytes\n",
      "    buf = self._recv(4)\n",
      "  File \"/opt/homebrew/Cellar/python38/3.8.3_1/Frameworks/Python.framework/Versions/3.8/lib/python3.8/multiprocessing/connection.py\", line 383, in _recv\n",
      "    raise EOFError\n",
      "EOFError\n",
      "\n",
      "During handling of the above exception, another exception occurred:\n",
      "\n",
      "Traceback (most recent call last):\n",
      "  File \"/opt/homebrew/Cellar/python38/3.8.3_1/Frameworks/Python.framework/Versions/3.8/lib/python3.8/multiprocessing/process.py\", line 315, in _bootstrap\n",
      "    self.run()\n",
      "  File \"/opt/homebrew/Cellar/python38/3.8.3_1/Frameworks/Python.framework/Versions/3.8/lib/python3.8/multiprocessing/process.py\", line 108, in run\n",
      "    self._target(*self._args, **self._kwargs)\n",
      "  File \"/Users/vmoens/Repos/RL/torch_rl/torchrl/envs/vec_env.py\", line 821, in _run_worker_pipe_shared_mem\n",
      "    raise EOFError(\n",
      "EOFError: proc 83465 failed, last command: seed. \n",
      "Err=\n"
     ]
    }
   ],
   "source": [
    "parallel_env = ParallelEnv(3, env_make)  # -> creates 3 envs in parallel\n",
    "# env has not been started --> error:\n",
    "try:\n",
    "    parallel_env.foo\n",
    "except:\n",
    "    print(\"Aargh what did I do!\")\n",
    "    sleep(10)  # make sure we don't get ahead of ourselves"
   ]
  },
  {
   "cell_type": "code",
   "execution_count": 18,
   "id": "702838c3-7aa1-4af3-974f-e312629940e6",
   "metadata": {},
   "outputs": [],
   "source": [
    "parallel_env.start()\n",
    "foo_list = parallel_env.foo"
   ]
  },
  {
   "cell_type": "code",
   "execution_count": 19,
   "id": "965b8d5f-f549-4e38-80a9-fe82a571b209",
   "metadata": {},
   "outputs": [
    {
     "data": {
      "text/plain": [
       "<torchrl.envs.vec_env._dispatch_caller_parallel at 0x111f8fb50>"
      ]
     },
     "execution_count": 19,
     "metadata": {},
     "output_type": "execute_result"
    }
   ],
   "source": [
    "foo_list  # needs to be instantiated, for instance using list"
   ]
  },
  {
   "cell_type": "code",
   "execution_count": 20,
   "id": "15e0e5f5-d1f9-4f55-8437-8e393b4754f5",
   "metadata": {},
   "outputs": [
    {
     "data": {
      "text/plain": [
       "['bar_6322d286-dce2-11ec-ba4b-acde48001122',\n",
       " 'bar_6322d29a-dce2-11ec-a170-acde48001122',\n",
       " 'bar_6322d2ae-dce2-11ec-9e59-acde48001122']"
      ]
     },
     "execution_count": 20,
     "metadata": {},
     "output_type": "execute_result"
    }
   ],
   "source": [
    "list(foo_list)"
   ]
  },
  {
   "cell_type": "markdown",
   "id": "da844a71-f313-4e42-b352-0ec54a1e3b58",
   "metadata": {},
   "source": [
    "Similarly, methods can also be accessed:"
   ]
  },
  {
   "cell_type": "code",
   "execution_count": 21,
   "id": "bce02ca2-b0fc-47fb-b57d-125410d8979e",
   "metadata": {},
   "outputs": [
    {
     "data": {
      "text/plain": [
       "[1, 1, 1]"
      ]
     },
     "execution_count": 21,
     "metadata": {},
     "output_type": "execute_result"
    }
   ],
   "source": [
    "something = parallel_env.get_something(0)\n",
    "something"
   ]
  },
  {
   "cell_type": "code",
   "execution_count": 22,
   "id": "cefbe2dc-9906-4afc-950a-3039f8eebdca",
   "metadata": {},
   "outputs": [],
   "source": [
    "parallel_env.close()"
   ]
  },
  {
   "cell_type": "markdown",
   "id": "521d423e-6468-4ea6-b1b6-ac4befca8d05",
   "metadata": {},
   "source": [
    "### kwargs for parallel environments\n",
    "\n",
    "One may want to provide kwargs to the various environments. This can achieved either at construction time or afterwards:"
   ]
  },
  {
   "cell_type": "code",
   "execution_count": 23,
   "id": "3787fd8a-dfee-4006-8870-6be019d8dfc3",
   "metadata": {},
   "outputs": [
    {
     "name": "stderr",
     "output_type": "stream",
     "text": [
      "A.L.E: Arcade Learning Environment (version 0.7.5+db37282)\n",
      "[Powered by Stella]\n",
      "A.L.E: Arcade Learning Environment (version 0.7.5+db37282)\n",
      "[Powered by Stella]A.L.E: Arcade Learning Environment (version 0.7.5+db37282)\n",
      "[Powered by Stella]\n",
      "\n"
     ]
    },
    {
     "data": {
      "image/png": "[encoded data removed]",
      "text/plain": [
       "<Figure size 360x720 with 2 Axes>"
      ]
     },
     "metadata": {
      "needs_background": "light"
     },
     "output_type": "display_data"
    }
   ],
   "source": [
    "from torchrl.envs import GymEnv, ParallelEnv, TransformedEnv, ToTensorImage, Resize, Compose\n",
    "from matplotlib import pyplot as plt\n",
    "\n",
    "def env_make(env_name):\n",
    "    env = TransformedEnv(GymEnv(env_name, from_pixels=True, pixels_only=True), Compose(ToTensorImage(), Resize(64, 64)))\n",
    "    return env\n",
    "\n",
    "parallel_env = ParallelEnv(2, [env_make, env_make], [{\"env_name\": \"ALE/AirRaid-v5\"}, {\"env_name\": \"ALE/Pong-v5\"}])\n",
    "tensordict = parallel_env.reset()\n",
    "\n",
    "plt.figure(figsize=(5, 10))\n",
    "plt.subplot(121)\n",
    "plt.imshow(tensordict[0].get(\"pixels\").permute(1, 2, 0).numpy())\n",
    "plt.subplot(122)\n",
    "plt.imshow(tensordict[1].get(\"pixels\").permute(1, 2, 0).numpy())\n",
    "parallel_env.close()"
   ]
  },
  {
   "cell_type": "markdown",
   "id": "478df59c-9653-40ca-b49c-eb662861ad3a",
   "metadata": {},
   "source": []
  },
  {
   "cell_type": "markdown",
   "id": "3b7d913e-4456-4ba5-84c1-eb78f0d58933",
   "metadata": {},
   "source": [
    "## Transforming parallel environments\n",
    "\n",
    "There are two equivalent ways of transforming parallen environments: in each process separately, or on the main process. It is even possible to do both. One can therefore think carefully about the transform design to leverage the device capabilities (e.g. transforms on cuda devices) and vectorizing operations on the main process if possible."
   ]
  },
  {
   "cell_type": "code",
   "execution_count": 24,
   "id": "ccd43ff0-b866-4d21-8f7d-4f5e53a051ba",
   "metadata": {},
   "outputs": [
    {
     "name": "stderr",
     "output_type": "stream",
     "text": [
      "A.L.E: Arcade Learning Environment (version 0.7.5+db37282)\n",
      "[Powered by Stella]\n",
      "A.L.E: Arcade Learning Environment (version 0.7.5+db37282)\n",
      "[Powered by Stella]\n"
     ]
    },
    {
     "name": "stdout",
     "output_type": "stream",
     "text": [
      "grayscale tensordict:  TensorDict(\n",
      "    fields={\n",
      "        done: Tensor(torch.Size([2, 1]), dtype=torch.bool),\n",
      "        pixels: Tensor(torch.Size([2, 1, 64, 64]), dtype=torch.float32)},\n",
      "    batch_size=torch.Size([2]),\n",
      "    device=cpu,\n",
      "    is_shared=False)\n"
     ]
    },
    {
     "data": {
      "image/png": "[encoded data removed]",
      "text/plain": [
       "<Figure size 360x720 with 2 Axes>"
      ]
     },
     "metadata": {
      "needs_background": "light"
     },
     "output_type": "display_data"
    }
   ],
   "source": [
    "from torchrl.envs import GymEnv, ParallelEnv, TransformedEnv, ToTensorImage, Resize, Compose, GrayScale\n",
    "from matplotlib import pyplot as plt\n",
    "\n",
    "def env_make(env_name):\n",
    "    env = TransformedEnv(GymEnv(env_name, from_pixels=True, pixels_only=True), Compose(ToTensorImage(), Resize(64, 64)))  # transforms on remote processes\n",
    "    return env\n",
    "\n",
    "parallel_env = ParallelEnv(2, [env_make, env_make], [{\"env_name\": \"ALE/AirRaid-v5\"}, {\"env_name\": \"ALE/Pong-v5\"}])\n",
    "parallel_env = TransformedEnv(parallel_env, GrayScale())  # transforms on main process\n",
    "tensordict = parallel_env.reset()\n",
    "print(\"grayscale tensordict: \", tensordict)\n",
    "plt.figure(figsize=(5, 10))\n",
    "plt.subplot(121)\n",
    "plt.imshow(tensordict[0].get(\"pixels\").permute(1, 2, 0).numpy())\n",
    "plt.subplot(122)\n",
    "plt.imshow(tensordict[1].get(\"pixels\").permute(1, 2, 0).numpy())\n",
    "parallel_env.close()"
   ]
  },
  {
   "cell_type": "markdown",
   "id": "d66e276d-bd61-431e-852e-55198595fe34",
   "metadata": {},
   "source": [
    "## VecNorm\n",
    "\n",
    "In RL, we commonly face the problem of normalizing data before inputting them into a model. \n",
    "Sometimes, we can get a good approximation of the normalizing statistics from data gathered in the environment with, say, a random policy (or demonstrations). It might, however, be advisable to normalize the data \"on-the-fly\", updating the normalizing constants progressively to what has been observed so far. This is particularily useful when we expect the normalizing statistics to change following changes in performance in the task, or when the environment is evolving due to external factors.\n",
    "\n",
    "**Caution**: this feature should be used with caution with off-policy learning, as old data will be \"deprecated\" due to its normalization with previously valid normalizing statistics. In on-policy settings too, this feature makes learning non-steady and may have unexpected effects. One would therefore advice users to rely on this feature with caution and compare it with data normalizing given a fixed version of the normalizing constants.\n",
    "\n",
    "In regular setting, using VecNorm is quite easy:"
   ]
  },
  {
   "cell_type": "code",
   "execution_count": 25,
   "id": "10d665f6-daf8-41bb-9767-5316387db737",
   "metadata": {},
   "outputs": [
    {
     "name": "stdout",
     "output_type": "stream",
     "text": [
      "mean: : tensor([-0.2286, -0.0550, -0.4966])\n",
      "std: : tensor([1.1729, 1.2296, 1.1737])\n"
     ]
    }
   ],
   "source": [
    "from torchrl.envs.transforms import VecNorm, TransformedEnv\n",
    "from torchrl.envs import GymEnv\n",
    "\n",
    "env = TransformedEnv(GymEnv(\"Pendulum-v1\"), VecNorm())\n",
    "tensordict = env.rollout(n_steps=100)\n",
    "\n",
    "print(\"mean: :\", tensordict.get(\"observation\").mean(0))  # Approx 0\n",
    "print(\"std: :\", tensordict.get(\"observation\").std(0))  # Approx 1"
   ]
  },
  {
   "cell_type": "markdown",
   "id": "34c31e5c-82fc-4795-bb74-917ea5babc7e",
   "metadata": {},
   "source": [
    "In **parallel envs** things are slightly more complicated, as we need to share the running statistics amongst the processes. We created a class `EnvCreator` that is responsible for looking at an environment creation method, retrieving tensordicts to share amongst processes in the environment class, and pointing each process to the right common, shared tensordict once created:"
   ]
  },
  {
   "cell_type": "code",
   "execution_count": 1,
   "id": "55f3b06d-d4cf-4d5b-b0e5-eda4d46cfcd9",
   "metadata": {},
   "outputs": [
    {
     "name": "stdout",
     "output_type": "stream",
     "text": [
      "<class 'torchrl.envs.transforms.transforms.TransformedEnv'>: sharing mem of TensorDict(\n",
      "    fields={\n",
      "        next_observation_count: Tensor(torch.Size([1]), dtype=torch.float32),\n",
      "        next_observation_ssq: Tensor(torch.Size([4]), dtype=torch.float32),\n",
      "        next_observation_sum: Tensor(torch.Size([4]), dtype=torch.float32),\n",
      "        reward_count: Tensor(torch.Size([1]), dtype=torch.float32),\n",
      "        reward_ssq: Tensor(torch.Size([1]), dtype=torch.float32),\n",
      "        reward_sum: Tensor(torch.Size([1]), dtype=torch.float32)},\n",
      "    batch_size=torch.Size([]),\n",
      "    device=cpu,\n",
      "    is_shared=False)\n",
      "tensordict:  LazyStackedTensorDict(\n",
      "    fields={\n",
      "        action: Tensor(torch.Size([3, 5, 2]), dtype=torch.int64),\n",
      "        done: Tensor(torch.Size([3, 5, 1]), dtype=torch.bool),\n",
      "        next_observation: Tensor(torch.Size([3, 5, 4]), dtype=torch.float32),\n",
      "        observation: Tensor(torch.Size([3, 5, 4]), dtype=torch.float32),\n",
      "        reward: Tensor(torch.Size([3, 5, 1]), dtype=torch.float32)},\n",
      "    batch_size=torch.Size([3, 5]),\n",
      "    device=cpu,\n",
      "    is_shared=False)\n",
      "mean: : tensor([-0.2804,  0.0874, -0.0959])\n",
      "std: : tensor([1.5177, 1.2863, 1.3846])\n",
      "update counts:  tensor([20.])\n"
     ]
    }
   ],
   "source": [
    "from torchrl.envs.transforms import VecNorm, TransformedEnv\n",
    "from torchrl.envs import GymEnv, EnvCreator, ParallelEnv\n",
    "\n",
    "make_env = EnvCreator(lambda: TransformedEnv(GymEnv(\"CartPole-v1\"), VecNorm(decay=1.0)))\n",
    "env = ParallelEnv(3, make_env)\n",
    "make_env.state_dict()['_extra_state'][\"next_observation_count\"].fill_(0.0)\n",
    "make_env.state_dict()['_extra_state'][\"next_observation_ssq\"].fill_(0.0)\n",
    "make_env.state_dict()['_extra_state'][\"next_observation_sum\"].fill_(0.0)\n",
    "\n",
    "tensordict = env.rollout(n_steps=5)\n",
    "\n",
    "print('tensordict: ', tensordict)\n",
    "print(\"mean: :\", tensordict.get(\"observation\").view(-1, 3).mean(0))  # Approx 0\n",
    "print(\"std: :\", tensordict.get(\"observation\").view(-1, 3).std(0))  # Approx 1\n",
    "\n",
    "# The count is slightly higher than the number of steps (since we did not use any decay)\n",
    "# The difference between the two is due to the fact that ParallelEnv creates a dummy environment to initialize the shared TensorDict \n",
    "# that is used to collect data from the dispached environments. This small difference will usually be absored throughout training.\n",
    "print(\"update counts: \", make_env.state_dict()['_extra_state'][\"next_observation_count\"])\n",
    "env.close()"
   ]
  },
  {
   "cell_type": "code",
   "execution_count": null,
   "id": "19065873-3303-40ea-9857-32d53b7f8c79",
   "metadata": {},
   "outputs": [],
   "source": []
  }
 ],
 "metadata": {
  "kernelspec": {
   "display_name": "Python 3 (ipykernel)",
   "language": "python",
   "name": "python3"
  },
  "language_info": {
   "codemirror_mode": {
    "name": "ipython",
    "version": 3
   },
   "file_extension": ".py",
   "mimetype": "text/x-python",
   "name": "python",
   "nbconvert_exporter": "python",
   "pygments_lexer": "ipython3",
   "version": "3.8.3"
  }
 },
 "nbformat": 4,
 "nbformat_minor": 5
}
